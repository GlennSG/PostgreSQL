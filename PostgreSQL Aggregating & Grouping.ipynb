{
 "cells": [
  {
   "cell_type": "markdown",
   "metadata": {},
   "source": [
    "### What was the hottest day in our data set? Where was that?"
   ]
  },
  {
   "cell_type": "markdown",
   "metadata": {},
   "source": [
    "    SELECT \n",
    "      date  ,\n",
    "      zip,\n",
    "      MAX(maxtemperaturef) as max_temp\n",
    "    FROM \n",
    "      weather\n",
    "    GROUP BY date  ,zip\n",
    "    ORDER BY max_temp DESC\n",
    "    LIMIT 1;"
   ]
  },
  {
   "cell_type": "markdown",
   "metadata": {},
   "source": [
    "#### Output: \n",
    "\n",
    "Date: 2015-11-17\n",
    "\n",
    "Zip: 94063\n",
    "\n",
    "Max_temp: 134 F"
   ]
  },
  {
   "cell_type": "markdown",
   "metadata": {},
   "source": [
    "### How many trips started at each station?"
   ]
  },
  {
   "cell_type": "markdown",
   "metadata": {},
   "source": [
    "    SELECT\n",
    "      start_station,\n",
    "      COUNT(*) as station_start_count\n",
    "    FROM \n",
    "      trips\n",
    "    GROUP BY start_station;"
   ]
  },
  {
   "cell_type": "markdown",
   "metadata": {},
   "source": [
    "### What's the shortest trip that happened?"
   ]
  },
  {
   "cell_type": "markdown",
   "metadata": {},
   "source": [
    "    SELECT\n",
    "      MIN(duration) as min_duration,\n",
    "    FROM\n",
    "      trips\n",
    "    ORDER BY min_duration DESC\n",
    "    LIMIT 1;"
   ]
  },
  {
   "cell_type": "markdown",
   "metadata": {},
   "source": [
    "### What is the average trip duration, by end station?"
   ]
  },
  {
   "cell_type": "markdown",
   "metadata": {},
   "source": [
    "    SELECT\n",
    "      end_station,\n",
    "      AVG(duration)\n",
    "    FROM\n",
    "      trips\n",
    "    GROUP BY end_station;"
   ]
  }
 ],
 "metadata": {
  "kernelspec": {
   "display_name": "Python 3",
   "language": "python",
   "name": "python3"
  },
  "language_info": {
   "codemirror_mode": {
    "name": "ipython",
    "version": 3
   },
   "file_extension": ".py",
   "mimetype": "text/x-python",
   "name": "python",
   "nbconvert_exporter": "python",
   "pygments_lexer": "ipython3",
   "version": "3.6.5"
  }
 },
 "nbformat": 4,
 "nbformat_minor": 2
}
