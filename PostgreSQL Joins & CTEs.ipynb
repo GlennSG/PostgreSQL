{
 "cells": [
  {
   "cell_type": "markdown",
   "metadata": {},
   "source": [
    "### What are the three longest trips on rainy days?"
   ]
  },
  {
   "cell_type": "markdown",
   "metadata": {},
   "source": [
    "    SELECT \n",
    "        w.events,\n",
    "        t.duration\n",
    "    FROM\n",
    "        trips t\n",
    "    JOIN\n",
    "        weather w\n",
    "    ON\n",
    "        t.zip_code = w.zip\n",
    "    WHERE\n",
    "        w.event LIKE 'Rain'\n",
    "    GROUP BY w.events, t.duration\n",
    "    ORDER BY t.duration DESC\n",
    "    LIMIT 3;"
   ]
  },
  {
   "cell_type": "markdown",
   "metadata": {},
   "source": [
    "### Which station is full most often?"
   ]
  },
  {
   "cell_type": "markdown",
   "metadata": {},
   "source": [
    "    SELECT\n",
    "        stat.docks_available,\n",
    "        s.name\n",
    "    FROM\n",
    "        status stat\n",
    "    JOIN\n",
    "        station s\n",
    "    ON\n",
    "        stat.station_id = s.station_id\n",
    "    GROUP BY stat.docks_available,s.name\n",
    "    ORDER BY stat.docks_available ASC\n",
    "    LIMIT 1;"
   ]
  },
  {
   "cell_type": "markdown",
   "metadata": {},
   "source": [
    "### Return a list of stations with a count of number of trips starting at that station but ordered by dock count."
   ]
  },
  {
   "cell_type": "markdown",
   "metadata": {},
   "source": [
    "    WITH locations\n",
    "    AS (\n",
    "        SELECT\n",
    "            name,\n",
    "            dockcount\n",
    "        FROM\n",
    "            stations\n",
    "        GROUP BY 1,2\n",
    "       )\n",
    "    SELECT\n",
    "        l.name,\n",
    "        l.dockcount,\n",
    "        COUNT(*)\n",
    "    FROM\n",
    "        locations l\n",
    "    JOIN\n",
    "        stations s\n",
    "    ON\n",
    "        l.name = s.name\n",
    "    JOIN\n",
    "        trips t\n",
    "    ON\n",
    "        t.start_station = s.name\n",
    "    GROUP BY 1,2\n",
    "    ORDER BY l.dockcount;"
   ]
  },
  {
   "cell_type": "markdown",
   "metadata": {},
   "source": [
    "### What's the length of the longest trip for each day it rains anywhere?"
   ]
  },
  {
   "cell_type": "markdown",
   "metadata": {},
   "source": [
    "    SELECT \n",
    "        t.start_station,\n",
    "        t.end_station,\n",
    "        t.duration,\n",
    "        w.events\n",
    "    FROM\n",
    "        trips t\n",
    "    JOIN\n",
    "        weather w\n",
    "    ON\n",
    "        t.zip_code = w.zip\n",
    "    WHERE\n",
    "        w.events LIKE 'Rain'\n",
    "    GROUP BY 1,2,3,4\n",
    "    ORDER BY t.duration DESC\n",
    "    LIMIT 1;"
   ]
  },
  {
   "cell_type": "markdown",
   "metadata": {},
   "source": [
    "This returns the longest rainy trip duration, not the length. Could use start and end station to find distance traveled, but without specific route, would be hard to find exact length of trip."
   ]
  }
 ],
 "metadata": {
  "kernelspec": {
   "display_name": "Python 3",
   "language": "python",
   "name": "python3"
  },
  "language_info": {
   "codemirror_mode": {
    "name": "ipython",
    "version": 3
   },
   "file_extension": ".py",
   "mimetype": "text/x-python",
   "name": "python",
   "nbconvert_exporter": "python",
   "pygments_lexer": "ipython3",
   "version": "3.6.5"
  }
 },
 "nbformat": 4,
 "nbformat_minor": 2
}
